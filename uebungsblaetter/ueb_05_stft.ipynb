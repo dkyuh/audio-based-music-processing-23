{
 "cells": [
  {
   "cell_type": "markdown",
   "metadata": {
    "id": "7dENGrHEHSm3"
   },
   "source": [
    "# Imports"
   ]
  },
  {
   "cell_type": "code",
   "execution_count": null,
   "metadata": {
    "id": "rfVAknDwHSnD"
   },
   "outputs": [],
   "source": [
    "import numpy as np\n",
    "import matplotlib.pyplot as plt\n",
    "import librosa as lr\n",
    "from IPython.display import Audio"
   ]
  },
  {
   "cell_type": "markdown",
   "metadata": {
    "id": "yeE2z9oOHSnF"
   },
   "source": [
    "# STFT"
   ]
  },
  {
   "cell_type": "markdown",
   "metadata": {
    "id": "jN6q7zYHHSnH"
   },
   "source": [
    "In diesem Notebook wird die STFT implementiert.\n",
    "\n",
    "Dafür kann die in der letzten Sitzung implementierte DFT-Funktion `calc_dft` verwendet werden:"
   ]
  },
  {
   "cell_type": "code",
   "execution_count": null,
   "metadata": {
    "id": "Un8xNP_MHSnI"
   },
   "outputs": [],
   "source": [
    "def calc_dft(x):\n",
    "\n",
    "    N = x.size\n",
    "    n = np.arange(N)\n",
    "\n",
    "    dft = np.zeros((N,), dtype=complex)\n",
    "\n",
    "    for k in range(N):\n",
    "        e = np.exp(-1j * 2 * np.pi * n * k / N)\n",
    "        dft[k] = np.sum(x * e)\n",
    "    \n",
    "    return dft"
   ]
  },
  {
   "cell_type": "markdown",
   "metadata": {
    "id": "oHlrn8ifHSnI"
   },
   "source": [
    "<div style=\"background-color:lightyellow;border:solid lightgrey;padding:10px\">\n",
    "\n",
    "**Aufgabe:**\n",
    "    \n",
    "Implementiert die Funktion `calc_stft`\n",
    "    \n",
    "*Tipps:*\n",
    "- siehe **[Session_03: Time-Framing](/sessions/03_midi_timeframing/03_midi_timeframing.md)**\n",
    "- Die Ergebnisse der STFT sollen in einer Matrix (= multidimensionaler Array) gespeichert werden (siehe nächster Code-Block) --> Es bietet sich also an, einen leeren Array `stft` zu erstellen, in den man dann im Loop jeweils die Ergebnisse schreibt.\n",
    "- `stft` muss also so viele Zeilen haben, wie das Fenster lang ist (`window_size`) und so viele Spalten haben, wie viele Fenster insgesamt berechnet werden (`num_wins`)\n",
    "- Da das Ergebnis der DFT komplexe Zahlen liefert, muss man mit dem `dtype`-keyword beim Erstellen des (numpy-)Arrays `complex` angeben.\n",
    "- Innerhalb des Loops soll pro Fenster jeweils die DFT berechnet werden (verwende hierfür `calc_dft` oder `np.fft.fft` nach Belieben). Diese DFT soll dann in die jeweilige Spalte der `stft`-Matrix geschrieben werden --> hilfreich: mit `a[start_y:stop_y, start_x:stop_x]` einen bestimmten Ausschnitt einer gegebenen Matrix (hier `a`) referenzieren.\n",
    "\n",
    "</div>"
   ]
  },
  {
   "cell_type": "code",
   "execution_count": null,
   "metadata": {
    "id": "wWzqN-wTHSnJ"
   },
   "outputs": [],
   "source": [
    "# f --> frequenz index\n",
    "# t --> zeit index\n",
    "\n",
    "np.array([['f0 t0', 'f0 t1', 'f0 t2', 'f0 t3', 'f0 t4', '...'], # freq_coef 0\n",
    "          ['f1 t0', 'f1 t1', 'f1 t2', 'f1 t3', 'f1 t4', '...'], # freq_coef 1\n",
    "          ['f2 t0', 'f2 t1', 'f2 t2', 'f2 t3', 'f2 t4', '...'], # freq_coef 2\n",
    "          ['f3 t0', 'f3 t1', 'f3 t2', 'f3 t3', 'f3 t4', '...'], # freq_coef 3\n",
    "          ['f4 t0', 'f4 t1', 'f4 t2', 'f4 t3', 'f4 t4', '...'], # freq_coef 4\n",
    "          ['...',   '...',   '...',   '...',   '...',   '...']]) # ...\n",
    "#           win 0    win 1    win 2    win 3    win 4    ..."
   ]
  },
  {
   "cell_type": "code",
   "execution_count": null,
   "metadata": {
    "id": "TIWNERwJHSnJ"
   },
   "outputs": [],
   "source": [
    "def calc_stft(x, hop_size=200, window_size=500):\n",
    "    \n",
    "    ...\n",
    "    num_wins = ...\n",
    "    \n",
    "    stft = np.zeros(...)\n",
    "    \n",
    "    for i in range(num_wins):\n",
    "        \n",
    "        ...\n",
    "        \n",
    "    return stft"
   ]
  },
  {
   "cell_type": "markdown",
   "metadata": {
    "id": "PFaQzdrWHSnK"
   },
   "source": [
    "Jetzt kann die STFT berechnet und geplottet werden:"
   ]
  },
  {
   "cell_type": "code",
   "execution_count": null,
   "metadata": {
    "id": "LlLKhxZcHSnK"
   },
   "outputs": [],
   "source": [
    "x, sr = lr.load('../data/snd/violin.wav', sr=None)\n",
    "\n",
    "stft = calc_stft(x)\n",
    "\n",
    "display(Audio(x, rate=sr))\n",
    "\n",
    "# plot\n",
    "plt.figure(figsize=(12, 8))\n",
    "\n",
    "plt.subplot(2, 1, 1)\n",
    "length = x.size / sr\n",
    "t = np.linspace(0, length, x.size)\n",
    "plt.plot(t, x)\n",
    "plt.xlim(0, length)\n",
    "\n",
    "plt.subplot(2, 1, 2)\n",
    "# to dB\n",
    "plt.imshow(10 * np.log10(np.abs(stft)), aspect='auto', origin='lower', extent=[0, length, 0, sr])\n",
    "plt.ylim(0, sr / 2)\n",
    "\n",
    "plt.show()"
   ]
  },
  {
   "cell_type": "markdown",
   "metadata": {
    "id": "Zc4ky5YOHSnL"
   },
   "source": [
    "Überlegung für nächste Woche: Was passiert, wenn man verschiedene window-sizes und hop_lengths verwendet?"
   ]
  },
  {
   "cell_type": "code",
   "execution_count": null,
   "metadata": {
    "id": "ROxXfUAJHSnL"
   },
   "outputs": [],
   "source": [
    "# ausführen dieses code-blocks kann ein bisschen dauern\n",
    "# in stft-funktion lieber np.fft.fft verwenden\n",
    "window_sizes = [50, 200, 800, 2400, 4800]\n",
    "for window_size in window_sizes:\n",
    "\n",
    "    hop_sizes = [window_size / 4, window_size / 2]\n",
    "    for hop_size in hop_sizes:\n",
    "\n",
    "        stft = calc_stft(x, hop_size=int(hop_size), window_size=int(window_size))\n",
    "\n",
    "        print('hop_size:\\t%d\\nwindow_size:\\t%d' % (hop_size, window_size))\n",
    "        # plot\n",
    "        plt.figure(figsize=(12, 8))\n",
    "\n",
    "        plt.subplot(2, 1, 1)\n",
    "        length = x.size / sr\n",
    "        t = np.linspace(0, length, x.size)\n",
    "        plt.plot(t, x)\n",
    "        plt.xlim(0, length)\n",
    "        \n",
    "        plt.subplot(2, 1, 2)\n",
    "        # to dB\n",
    "        plt.imshow(10 * np.log10(np.abs(stft)), aspect='auto', origin='lower', extent=[0, np.shape(x)[0] / sr, 0, sr])\n",
    "        plt.ylim(0, sr / 2)\n",
    "        plt.show()"
   ]
  }
 ],
 "metadata": {
  "colab": {
   "collapsed_sections": [],
   "name": "uebungsblatt_stft.ipynb",
   "provenance": []
  },
  "kernelspec": {
   "display_name": "Python 3 (ipykernel)",
   "language": "python",
   "name": "python3"
  },
  "language_info": {
   "codemirror_mode": {
    "name": "ipython",
    "version": 3
   },
   "file_extension": ".py",
   "mimetype": "text/x-python",
   "name": "python",
   "nbconvert_exporter": "python",
   "pygments_lexer": "ipython3",
   "version": "3.9.11"
  },
  "toc": {
   "base_numbering": 1,
   "nav_menu": {},
   "number_sections": true,
   "sideBar": true,
   "skip_h1_title": false,
   "title_cell": "Table of Contents",
   "title_sidebar": "Contents",
   "toc_cell": false,
   "toc_position": {},
   "toc_section_display": true,
   "toc_window_display": false
  },
  "varInspector": {
   "cols": {
    "lenName": 16,
    "lenType": 16,
    "lenVar": 40
   },
   "kernels_config": {
    "python": {
     "delete_cmd_postfix": "",
     "delete_cmd_prefix": "del ",
     "library": "var_list.py",
     "varRefreshCmd": "print(var_dic_list())"
    },
    "r": {
     "delete_cmd_postfix": ") ",
     "delete_cmd_prefix": "rm(",
     "library": "var_list.r",
     "varRefreshCmd": "cat(var_dic_list()) "
    }
   },
   "types_to_exclude": [
    "module",
    "function",
    "builtin_function_or_method",
    "instance",
    "_Feature"
   ],
   "window_display": false
  }
 },
 "nbformat": 4,
 "nbformat_minor": 1
}
