{
 "cells": [
  {
   "cell_type": "markdown",
   "id": "24835c3f",
   "metadata": {},
   "source": [
    "# Numpy pt. 2"
   ]
  },
  {
   "cell_type": "markdown",
   "id": "5a0fa062",
   "metadata": {},
   "source": [
    "## Imports"
   ]
  },
  {
   "cell_type": "code",
   "execution_count": 1,
   "id": "24987844",
   "metadata": {},
   "outputs": [],
   "source": [
    "import numpy as np\n",
    "import matplotlib.pyplot as plt\n",
    "from IPython.display import Audio"
   ]
  },
  {
   "cell_type": "markdown",
   "id": "b1f36261",
   "metadata": {},
   "source": [
    "## Arrays erstellen"
   ]
  },
  {
   "cell_type": "markdown",
   "id": "29d5259b",
   "metadata": {},
   "source": [
    "### Arrays erstellen aus Listen-ähnlichen Typen"
   ]
  },
  {
   "cell_type": "code",
   "execution_count": 2,
   "id": "db3103c1",
   "metadata": {},
   "outputs": [],
   "source": [
    "a = np.array( [1, 2, 3, 4] )\n",
    "\n",
    "a = np.array( (1, 2, 3, 4) )"
   ]
  },
  {
   "cell_type": "markdown",
   "id": "4a7b74c3",
   "metadata": {},
   "source": [
    "### `np.arange`"
   ]
  },
  {
   "cell_type": "code",
   "execution_count": 3,
   "id": "aa8af2e3",
   "metadata": {},
   "outputs": [
    {
     "name": "stdout",
     "output_type": "stream",
     "text": [
      "[0 1 2 3 4 5 6 7 8 9]\n",
      "[2 3 4 5 6 7 8 9]\n",
      "[2 5 8]\n"
     ]
    }
   ],
   "source": [
    "print(np.arange(10))\n",
    "\n",
    "print(np.arange(2, 10))\n",
    "\n",
    "print(np.arange(2, 10, 3))\n",
    "\n",
    "# verhaelt sich wie range:\n",
    "# for i in range(2, 10, 3):\n",
    "#     print(i)"
   ]
  },
  {
   "cell_type": "markdown",
   "id": "2948df69",
   "metadata": {},
   "source": [
    "### `np.linspace`"
   ]
  },
  {
   "cell_type": "code",
   "execution_count": 4,
   "id": "62247c00",
   "metadata": {},
   "outputs": [
    {
     "name": "stdout",
     "output_type": "stream",
     "text": [
      "[ 2.          2.16326531  2.32653061  2.48979592  2.65306122  2.81632653\n",
      "  2.97959184  3.14285714  3.30612245  3.46938776  3.63265306  3.79591837\n",
      "  3.95918367  4.12244898  4.28571429  4.44897959  4.6122449   4.7755102\n",
      "  4.93877551  5.10204082  5.26530612  5.42857143  5.59183673  5.75510204\n",
      "  5.91836735  6.08163265  6.24489796  6.40816327  6.57142857  6.73469388\n",
      "  6.89795918  7.06122449  7.2244898   7.3877551   7.55102041  7.71428571\n",
      "  7.87755102  8.04081633  8.20408163  8.36734694  8.53061224  8.69387755\n",
      "  8.85714286  9.02040816  9.18367347  9.34693878  9.51020408  9.67346939\n",
      "  9.83673469 10.        ]\n",
      "[ 2.    2.16  2.32  2.48  2.64  2.8   2.96  3.12  3.28  3.44  3.6   3.76\n",
      "  3.92  4.08  4.24  4.4   4.56  4.72  4.88  5.04  5.2   5.36  5.52  5.68\n",
      "  5.84  6.    6.16  6.32  6.48  6.64  6.8   6.96  7.12  7.28  7.44  7.6\n",
      "  7.76  7.92  8.08  8.24  8.4   8.56  8.72  8.88  9.04  9.2   9.36  9.52\n",
      "  9.68  9.84 10.  ]\n",
      "[ 2.  3.  4.  5.  6.  7.  8.  9. 10.]\n"
     ]
    }
   ],
   "source": [
    "print(np.linspace(2, 10))\n",
    "\n",
    "print(np.arange(2, 10.01, (10 -  2) / 50))\n",
    "\n",
    "print(np.linspace(2, 10, 9))"
   ]
  },
  {
   "cell_type": "code",
   "execution_count": 5,
   "id": "7f1513a3",
   "metadata": {},
   "outputs": [
    {
     "data": {
      "text/plain": [
       "[<matplotlib.lines.Line2D at 0x11f86d8e0>]"
      ]
     },
     "execution_count": 5,
     "metadata": {},
     "output_type": "execute_result"
    },
    {
     "data": {
      "image/png": "[encoded data removed]",
      "text/plain": [
       "<Figure size 432x288 with 1 Axes>"
      ]
     },
     "metadata": {
      "needs_background": "light"
     },
     "output_type": "display_data"
    }
   ],
   "source": [
    "a = np.linspace(2, 10)\n",
    "\n",
    "plt.plot(a, '.')"
   ]
  },
  {
   "cell_type": "markdown",
   "id": "e5231621",
   "metadata": {},
   "source": [
    "### `np.geomspace`"
   ]
  },
  {
   "cell_type": "code",
   "execution_count": 6,
   "id": "aaece27a",
   "metadata": {},
   "outputs": [
    {
     "name": "stdout",
     "output_type": "stream",
     "text": [
      "[ 2.          2.06678209  2.13579411  2.2071105   2.28080823  2.3569668\n",
      "  2.43566839  2.5169979   2.60104309  2.68789464  2.77764625  2.87039476\n",
      "  2.96624025  3.06528611  3.16763922  3.27341     3.38271258  3.49566489\n",
      "  3.6123888   3.73301024  3.85765935  3.98647063  4.11958305  4.25714024\n",
      "  4.3992906   4.54618751  4.69798947  4.85486025  5.01696911  5.18449095\n",
      "  5.35760652  5.53650261  5.72137222  5.91241481  6.10983653  6.31385036\n",
      "  6.52467642  6.74254219  6.96768272  7.20034093  7.44076784  7.68922286\n",
      "  7.94597405  8.21129843  8.48548227  8.76882139  9.0616215   9.36419852\n",
      "  9.6768789  10.        ]\n"
     ]
    }
   ],
   "source": [
    "print(np.geomspace(2, 10))"
   ]
  },
  {
   "cell_type": "code",
   "execution_count": 7,
   "id": "969df489",
   "metadata": {},
   "outputs": [
    {
     "data": {
      "text/plain": [
       "[<matplotlib.lines.Line2D at 0x11f97f400>]"
      ]
     },
     "execution_count": 7,
     "metadata": {},
     "output_type": "execute_result"
    },
    {
     "data": {
      "image/png": "[encoded data removed]",
      "text/plain": [
       "<Figure size 432x288 with 1 Axes>"
      ]
     },
     "metadata": {
      "needs_background": "light"
     },
     "output_type": "display_data"
    }
   ],
   "source": [
    "a = np.geomspace(2, 10)\n",
    "\n",
    "plt.plot(a, '.')"
   ]
  },
  {
   "cell_type": "markdown",
   "id": "23d4cb2b",
   "metadata": {},
   "source": [
    "## Multi-dimensionale Arrays"
   ]
  },
  {
   "cell_type": "code",
   "execution_count": 8,
   "id": "404bc17f",
   "metadata": {},
   "outputs": [
    {
     "name": "stdout",
     "output_type": "stream",
     "text": [
      "[[ 1  2  3  4]\n",
      " [ 5  6  7  8]\n",
      " [ 9 10 11 12]]\n"
     ]
    }
   ],
   "source": [
    "a_2 = np.array( [ [1,  2,  3,  4],\n",
    "                  [5,  6,  7,  8],\n",
    "                  [9, 10, 11, 12] ] )\n",
    "\n",
    "# 2d\n",
    "print(a_2)"
   ]
  },
  {
   "cell_type": "code",
   "execution_count": 9,
   "id": "357da195",
   "metadata": {},
   "outputs": [
    {
     "name": "stdout",
     "output_type": "stream",
     "text": [
      "[[ 1  2  3  4]\n",
      " [ 5  6  7  8]\n",
      " [ 9 10 11 12]]\n"
     ]
    }
   ],
   "source": [
    "a_2 = np.reshape(np.arange(1, 13), (3, 4))\n",
    "# 2d\n",
    "print(a_2)"
   ]
  },
  {
   "cell_type": "code",
   "execution_count": 10,
   "id": "d97029c1",
   "metadata": {},
   "outputs": [
    {
     "name": "stdout",
     "output_type": "stream",
     "text": [
      "[[[ 1  2]\n",
      "  [ 3  4]\n",
      "  [ 5  6]\n",
      "  [ 7  8]]\n",
      "\n",
      " [[ 9 10]\n",
      "  [11 12]\n",
      "  [13 14]\n",
      "  [15 16]]\n",
      "\n",
      " [[17 18]\n",
      "  [19 20]\n",
      "  [21 22]\n",
      "  [23 24]]]\n"
     ]
    }
   ],
   "source": [
    "a_3 = np.reshape(np.arange(1, 25), (3, 4, 2))\n",
    "# 3d\n",
    "print(a_3)"
   ]
  },
  {
   "cell_type": "markdown",
   "id": "109adbaf",
   "metadata": {},
   "source": [
    "## `shape`"
   ]
  },
  {
   "cell_type": "code",
   "execution_count": 11,
   "id": "88e42b6b",
   "metadata": {},
   "outputs": [
    {
     "data": {
      "text/plain": [
       "(3, 4)"
      ]
     },
     "execution_count": 11,
     "metadata": {},
     "output_type": "execute_result"
    }
   ],
   "source": [
    "a_2.shape"
   ]
  },
  {
   "cell_type": "code",
   "execution_count": 12,
   "id": "cd176a42",
   "metadata": {},
   "outputs": [
    {
     "data": {
      "text/plain": [
       "(3, 4, 2)"
      ]
     },
     "execution_count": 12,
     "metadata": {},
     "output_type": "execute_result"
    }
   ],
   "source": [
    "a_3.shape"
   ]
  },
  {
   "cell_type": "markdown",
   "id": "ca4b1cbb",
   "metadata": {},
   "source": [
    "## Auf Elemente zugreifen"
   ]
  },
  {
   "cell_type": "markdown",
   "id": "5440b7f1",
   "metadata": {},
   "source": [
    "### Element-Zugriff bei eindimensionalen Arrays"
   ]
  },
  {
   "cell_type": "code",
   "execution_count": 13,
   "id": "81b512de",
   "metadata": {},
   "outputs": [
    {
     "name": "stdout",
     "output_type": "stream",
     "text": [
      "[2 3 4 5 6 7 8 9]\n",
      "5\n",
      "9\n",
      "8\n",
      "[5 6]\n",
      "[5 6 7 8 9]\n",
      "[2 3 4]\n",
      "[2 3 4 5 6 7 8 9]\n",
      "[2 3 4 5 6 7]\n",
      "[2 4 6 8]\n",
      "[9 8 7 6 5 4 3 2]\n",
      "[9 7 5 3]\n",
      "[6 4]\n"
     ]
    }
   ],
   "source": [
    "a = np.arange(2, 10)\n",
    "\n",
    "print(a)\n",
    "\n",
    "print(a[3])\n",
    "\n",
    "print(a[-1])\n",
    "\n",
    "print(a[-2])\n",
    "\n",
    "# `:` notation\n",
    "# start : stop (exklusive) : step \n",
    "\n",
    "print(a[3:5])\n",
    "\n",
    "print(a[3:])\n",
    "\n",
    "print(a[:3])\n",
    "\n",
    "print(a[:])\n",
    "\n",
    "print(a[:-2])\n",
    "\n",
    "print(a[::2])\n",
    "\n",
    "print(a[::-1])\n",
    "\n",
    "print(a[::-2])\n",
    "\n",
    "print(a[4:1:-2])"
   ]
  },
  {
   "cell_type": "markdown",
   "id": "e21418aa",
   "metadata": {},
   "source": [
    "### Element-Zugriff bei multi-dimensionalen Arrays"
   ]
  },
  {
   "cell_type": "code",
   "execution_count": 14,
   "id": "3a29ba9e",
   "metadata": {},
   "outputs": [
    {
     "data": {
      "text/plain": [
       "array([[ 0,  1,  2,  3],\n",
       "       [ 4,  5,  6,  7],\n",
       "       [ 8,  9, 10, 11]])"
      ]
     },
     "execution_count": 14,
     "metadata": {},
     "output_type": "execute_result"
    }
   ],
   "source": [
    "a_2 = np.reshape(np.arange(12), (3, 4))\n",
    "\n",
    "a_2"
   ]
  },
  {
   "cell_type": "code",
   "execution_count": 15,
   "id": "522cd180",
   "metadata": {},
   "outputs": [
    {
     "name": "stdout",
     "output_type": "stream",
     "text": [
      "[ 8  9 10 11] \n",
      "\n",
      "10 \n",
      "\n",
      "10 \n",
      "\n",
      "[ 8  9 10 11] \n",
      "\n",
      "[ 2  6 10] \n",
      "\n",
      "[[1 2]\n",
      " [5 6]]\n"
     ]
    }
   ],
   "source": [
    "print(a_2[2], '\\n')\n",
    "\n",
    "print(a_2[2][2], '\\n')\n",
    "\n",
    "print(a_2[2, 2], '\\n')\n",
    "\n",
    "print(a_2[2, :], '\\n')\n",
    "\n",
    "print(a_2[:, 2], '\\n')\n",
    "\n",
    "print(a_2[:2, 1:3])"
   ]
  },
  {
   "cell_type": "markdown",
   "id": "3891e6f0",
   "metadata": {},
   "source": [
    "### bool-sche Indizes"
   ]
  },
  {
   "cell_type": "code",
   "execution_count": 16,
   "id": "74fb7dae",
   "metadata": {},
   "outputs": [
    {
     "name": "stdout",
     "output_type": "stream",
     "text": [
      "[ True  True  True  True False False False False]\n"
     ]
    }
   ],
   "source": [
    "b_i = a < 6 # boolscher index\n",
    "\n",
    "print(b_i)"
   ]
  },
  {
   "cell_type": "code",
   "execution_count": 17,
   "id": "0dc355eb",
   "metadata": {},
   "outputs": [
    {
     "data": {
      "text/plain": [
       "array([2, 3, 4, 5])"
      ]
     },
     "execution_count": 17,
     "metadata": {},
     "output_type": "execute_result"
    }
   ],
   "source": [
    "a[b_i]"
   ]
  },
  {
   "cell_type": "code",
   "execution_count": 18,
   "id": "da1dba65",
   "metadata": {},
   "outputs": [
    {
     "data": {
      "text/plain": [
       "array([2, 3, 4, 5])"
      ]
     },
     "execution_count": 18,
     "metadata": {},
     "output_type": "execute_result"
    }
   ],
   "source": [
    "a[a < 6]"
   ]
  },
  {
   "cell_type": "code",
   "execution_count": 19,
   "id": "5e1cbc22",
   "metadata": {},
   "outputs": [
    {
     "data": {
      "text/plain": [
       "array([2, 4, 6, 8])"
      ]
     },
     "execution_count": 19,
     "metadata": {},
     "output_type": "execute_result"
    }
   ],
   "source": [
    "a[(a % 2) == 0] # alle geraden zahlen"
   ]
  },
  {
   "cell_type": "code",
   "execution_count": 20,
   "id": "90bb89ce",
   "metadata": {},
   "outputs": [
    {
     "data": {
      "text/plain": [
       "array([[ 0,  1,  2,  3],\n",
       "       [ 4,  5,  6,  7],\n",
       "       [ 8,  9, 10, 11]])"
      ]
     },
     "execution_count": 20,
     "metadata": {},
     "output_type": "execute_result"
    }
   ],
   "source": [
    "a_2"
   ]
  },
  {
   "cell_type": "code",
   "execution_count": 21,
   "id": "d6cb5aa8",
   "metadata": {},
   "outputs": [
    {
     "data": {
      "text/plain": [
       "array([[ True, False,  True, False],\n",
       "       [ True, False,  True, False],\n",
       "       [ True, False,  True, False]])"
      ]
     },
     "execution_count": 21,
     "metadata": {},
     "output_type": "execute_result"
    }
   ],
   "source": [
    "(a_2 % 2) == 0"
   ]
  },
  {
   "cell_type": "code",
   "execution_count": 22,
   "id": "b5d57e95",
   "metadata": {},
   "outputs": [
    {
     "data": {
      "text/plain": [
       "array([ 0,  2,  4,  6,  8, 10])"
      ]
     },
     "execution_count": 22,
     "metadata": {},
     "output_type": "execute_result"
    }
   ],
   "source": [
    "a_2[(a_2 % 2) == 0]"
   ]
  },
  {
   "cell_type": "markdown",
   "id": "3f07c6ec",
   "metadata": {},
   "source": [
    "## `np.newaxis`"
   ]
  },
  {
   "cell_type": "code",
   "execution_count": 23,
   "id": "4d46acd0",
   "metadata": {},
   "outputs": [
    {
     "name": "stdout",
     "output_type": "stream",
     "text": [
      "[0 1 2 3 4 5 6 7 8 9]\n",
      "[ 0 10 20 30 40 50 60 70 80 90]\n",
      "True\n"
     ]
    }
   ],
   "source": [
    "a = np.arange(10)\n",
    "b = np.arange(0, 100, 10)\n",
    "\n",
    "print(a)\n",
    "print(b)\n",
    "\n",
    "print(a.size == b.size)"
   ]
  },
  {
   "cell_type": "code",
   "execution_count": 24,
   "id": "119b23a3",
   "metadata": {},
   "outputs": [
    {
     "data": {
      "text/plain": [
       "array([  0,  10,  40,  90, 160, 250, 360, 490, 640, 810])"
      ]
     },
     "execution_count": 24,
     "metadata": {},
     "output_type": "execute_result"
    }
   ],
   "source": [
    "a * b"
   ]
  },
  {
   "cell_type": "code",
   "execution_count": 25,
   "id": "d94a7bbb",
   "metadata": {},
   "outputs": [
    {
     "data": {
      "text/plain": [
       "array([[0],\n",
       "       [1],\n",
       "       [2],\n",
       "       [3],\n",
       "       [4],\n",
       "       [5],\n",
       "       [6],\n",
       "       [7],\n",
       "       [8],\n",
       "       [9]])"
      ]
     },
     "execution_count": 25,
     "metadata": {},
     "output_type": "execute_result"
    }
   ],
   "source": [
    "a[:, np.newaxis]"
   ]
  },
  {
   "cell_type": "code",
   "execution_count": 26,
   "id": "a3dff09f",
   "metadata": {},
   "outputs": [
    {
     "data": {
      "text/plain": [
       "(10, 1)"
      ]
     },
     "execution_count": 26,
     "metadata": {},
     "output_type": "execute_result"
    }
   ],
   "source": [
    "a[:, np.newaxis].shape"
   ]
  },
  {
   "cell_type": "code",
   "execution_count": 27,
   "id": "dec0fa53",
   "metadata": {},
   "outputs": [
    {
     "data": {
      "text/plain": [
       "array([ 0, 10, 20, 30, 40, 50, 60, 70, 80, 90])"
      ]
     },
     "execution_count": 27,
     "metadata": {},
     "output_type": "execute_result"
    }
   ],
   "source": [
    "b"
   ]
  },
  {
   "cell_type": "code",
   "execution_count": 28,
   "id": "d9a02a3b",
   "metadata": {},
   "outputs": [
    {
     "data": {
      "text/plain": [
       "array([[  0,   0,   0,   0,   0,   0,   0,   0,   0,   0],\n",
       "       [  0,  10,  20,  30,  40,  50,  60,  70,  80,  90],\n",
       "       [  0,  20,  40,  60,  80, 100, 120, 140, 160, 180],\n",
       "       [  0,  30,  60,  90, 120, 150, 180, 210, 240, 270],\n",
       "       [  0,  40,  80, 120, 160, 200, 240, 280, 320, 360],\n",
       "       [  0,  50, 100, 150, 200, 250, 300, 350, 400, 450],\n",
       "       [  0,  60, 120, 180, 240, 300, 360, 420, 480, 540],\n",
       "       [  0,  70, 140, 210, 280, 350, 420, 490, 560, 630],\n",
       "       [  0,  80, 160, 240, 320, 400, 480, 560, 640, 720],\n",
       "       [  0,  90, 180, 270, 360, 450, 540, 630, 720, 810]])"
      ]
     },
     "execution_count": 28,
     "metadata": {},
     "output_type": "execute_result"
    }
   ],
   "source": [
    "a[:, np.newaxis] * b"
   ]
  },
  {
   "cell_type": "code",
   "execution_count": 29,
   "id": "5322b2a3",
   "metadata": {},
   "outputs": [],
   "source": [
    "#  a       b --> \n",
    "#  |     \n",
    "#  |     [  0,   0,   0,   0,   0,   0,   0,   0,   0,   0],\n",
    "#  v     [  0,  10,  20,  30,  40,  50,  60,  70,  80,  90],\n",
    "#        [  0,  20,  40,  60,  80, 100, 120, 140, 160, 180],\n",
    "#        [  0,  30,  60,  90, 120, 150, 180, 210, 240, 270],\n",
    "#        [  0,  40,  80, 120, 160, 200, 240, 280, 320, 360],\n",
    "#        [  0,  50, 100, 150, 200, 250, 300, 350, 400, 450],\n",
    "#        [  0,  60, 120, 180, 240, 300, 360, 420, 480, 540],\n",
    "#        [  0,  70, 140, 210, 280, 350, 420, 490, 560, 630],\n",
    "#        [  0,  80, 160, 240, 320, 400, 480, 560, 640, 720],\n",
    "#        [  0,  90, 180, 270, 360, 450, 540, 630, 720, 810]])"
   ]
  }
 ],
 "metadata": {
  "kernelspec": {
   "display_name": "Python 3 (ipykernel)",
   "language": "python",
   "name": "python3"
  },
  "language_info": {
   "codemirror_mode": {
    "name": "ipython",
    "version": 3
   },
   "file_extension": ".py",
   "mimetype": "text/x-python",
   "name": "python",
   "nbconvert_exporter": "python",
   "pygments_lexer": "ipython3",
   "version": "3.9.11"
  },
  "toc": {
   "base_numbering": 1,
   "nav_menu": {},
   "number_sections": true,
   "sideBar": true,
   "skip_h1_title": false,
   "title_cell": "Table of Contents",
   "title_sidebar": "Contents",
   "toc_cell": false,
   "toc_position": {},
   "toc_section_display": true,
   "toc_window_display": true
  },
  "varInspector": {
   "cols": {
    "lenName": 16,
    "lenType": 16,
    "lenVar": 40
   },
   "kernels_config": {
    "python": {
     "delete_cmd_postfix": "",
     "delete_cmd_prefix": "del ",
     "library": "var_list.py",
     "varRefreshCmd": "print(var_dic_list())"
    },
    "r": {
     "delete_cmd_postfix": ") ",
     "delete_cmd_prefix": "rm(",
     "library": "var_list.r",
     "varRefreshCmd": "cat(var_dic_list()) "
    }
   },
   "types_to_exclude": [
    "module",
    "function",
    "builtin_function_or_method",
    "instance",
    "_Feature"
   ],
   "window_display": false
  }
 },
 "nbformat": 4,
 "nbformat_minor": 5
}
