{
 "cells": [
  {
   "cell_type": "markdown",
   "id": "25767e35",
   "metadata": {},
   "source": [
    "# Jupyter Notebooks"
   ]
  },
  {
   "cell_type": "markdown",
   "id": "08173c32",
   "metadata": {},
   "source": [
    "## Edit Mode vs. Cell Mode\n",
    "\n",
    "- **Edit Mode**: grün angewählt + Cursor sichtbar\n",
    "\n",
    "- **Cell Mode**: blau angewählt;\n",
    "    - Möglichkeit zur Navigation zwischen den Zellen\n",
    "    - `Y`: turn into code cell\n",
    "    - `M`: turn into Markdown cell\n",
    "    - `A`: insert cell above\n",
    "    - `B`: insert cell below\n",
    "    \n",
    "## Cell types\n",
    "\n",
    "- Markdown Cell\n",
    "    - [resource zu Markdon Syntax](https://www.markdownguide.org/basic-syntax)\n",
    "- Code Cell\n",
    "    - `Cmd+Enter`: execute cell\n",
    "    - `Shift+Enter`: execute cell and move to next\n",
    "\n",
    "## Notebook extensions\n",
    "\n",
    "--> [Anleitung zur Installation](https://jupyter-contrib-nbextensions.readthedocs.io/en/latest/install.html)\n",
    "\n",
    "- evtl. nützliche Auswahl\n",
    "    - reveal\n",
    "    - Markdown preview\n",
    "    - Table of Contents"
   ]
  },
  {
   "cell_type": "markdown",
   "id": "e5665a6b",
   "metadata": {},
   "source": [
    "## Code"
   ]
  },
  {
   "cell_type": "code",
   "execution_count": 3,
   "id": "f6f9800e",
   "metadata": {},
   "outputs": [
    {
     "name": "stdout",
     "output_type": "stream",
     "text": [
      "hello notebook\n"
     ]
    }
   ],
   "source": [
    "print('hello notebook')"
   ]
  }
 ],
 "metadata": {
  "kernelspec": {
   "display_name": "Python 3 (ipykernel)",
   "language": "python",
   "name": "python3"
  },
  "language_info": {
   "codemirror_mode": {
    "name": "ipython",
    "version": 3
   },
   "file_extension": ".py",
   "mimetype": "text/x-python",
   "name": "python",
   "nbconvert_exporter": "python",
   "pygments_lexer": "ipython3",
   "version": "3.9.11"
  },
  "toc": {
   "base_numbering": 1,
   "nav_menu": {},
   "number_sections": true,
   "sideBar": true,
   "skip_h1_title": false,
   "title_cell": "Table of Contents",
   "title_sidebar": "Contents",
   "toc_cell": false,
   "toc_position": {},
   "toc_section_display": true,
   "toc_window_display": true
  },
  "varInspector": {
   "cols": {
    "lenName": 16,
    "lenType": 16,
    "lenVar": 40
   },
   "kernels_config": {
    "python": {
     "delete_cmd_postfix": "",
     "delete_cmd_prefix": "del ",
     "library": "var_list.py",
     "varRefreshCmd": "print(var_dic_list())"
    },
    "r": {
     "delete_cmd_postfix": ") ",
     "delete_cmd_prefix": "rm(",
     "library": "var_list.r",
     "varRefreshCmd": "cat(var_dic_list()) "
    }
   },
   "types_to_exclude": [
    "module",
    "function",
    "builtin_function_or_method",
    "instance",
    "_Feature"
   ],
   "window_display": false
  }
 },
 "nbformat": 4,
 "nbformat_minor": 5
}
