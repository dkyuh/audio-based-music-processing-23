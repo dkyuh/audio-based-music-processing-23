{
 "cells": [
  {
   "cell_type": "markdown",
   "id": "63c8a491",
   "metadata": {},
   "source": [
    "# Imports"
   ]
  },
  {
   "cell_type": "code",
   "execution_count": 1,
   "id": "8dc9fd42",
   "metadata": {},
   "outputs": [],
   "source": [
    "import numpy as np\n",
    "import matplotlib.pyplot as plt"
   ]
  },
  {
   "cell_type": "markdown",
   "id": "b4ef9f25",
   "metadata": {},
   "source": [
    "# Komplexe Zahlen in Python & NumPy"
   ]
  },
  {
   "cell_type": "code",
   "execution_count": 2,
   "id": "cb847691",
   "metadata": {},
   "outputs": [
    {
     "data": {
      "text/plain": [
       "(1+1j)"
      ]
     },
     "execution_count": 2,
     "metadata": {},
     "output_type": "execute_result"
    }
   ],
   "source": [
    "1 + 1j"
   ]
  },
  {
   "cell_type": "code",
   "execution_count": 3,
   "id": "cad85e98",
   "metadata": {},
   "outputs": [
    {
     "data": {
      "text/plain": [
       "(1+0j)"
      ]
     },
     "execution_count": 3,
     "metadata": {},
     "output_type": "execute_result"
    }
   ],
   "source": [
    "1 + 0j"
   ]
  },
  {
   "cell_type": "code",
   "execution_count": 4,
   "id": "1ec6e65a",
   "metadata": {},
   "outputs": [],
   "source": [
    "a = 1 + 0j"
   ]
  },
  {
   "cell_type": "code",
   "execution_count": 5,
   "id": "59d22d64",
   "metadata": {},
   "outputs": [
    {
     "data": {
      "text/plain": [
       "complex"
      ]
     },
     "execution_count": 5,
     "metadata": {},
     "output_type": "execute_result"
    }
   ],
   "source": [
    "type(a)"
   ]
  },
  {
   "cell_type": "code",
   "execution_count": 6,
   "id": "936d2d22",
   "metadata": {},
   "outputs": [
    {
     "data": {
      "text/plain": [
       "1.0"
      ]
     },
     "execution_count": 6,
     "metadata": {},
     "output_type": "execute_result"
    }
   ],
   "source": [
    "a.real"
   ]
  },
  {
   "cell_type": "code",
   "execution_count": 7,
   "id": "3b3b0942",
   "metadata": {},
   "outputs": [
    {
     "data": {
      "text/plain": [
       "0.0"
      ]
     },
     "execution_count": 7,
     "metadata": {},
     "output_type": "execute_result"
    }
   ],
   "source": [
    "a.imag"
   ]
  },
  {
   "cell_type": "code",
   "execution_count": 8,
   "id": "386877f9",
   "metadata": {},
   "outputs": [
    {
     "data": {
      "image/png": "[encoded data removed]",
      "text/plain": [
       "<Figure size 360x360 with 1 Axes>"
      ]
     },
     "metadata": {
      "needs_background": "light"
     },
     "output_type": "display_data"
    }
   ],
   "source": [
    "plt.figure(figsize=(5, 5))\n",
    "plt.scatter([a.real], [a.imag])\n",
    "plt.plot([-3, 3], [0, 0], c='black')\n",
    "plt.plot([0, 0], [-3, 3], c='black')\n",
    "plt.xlim(-2, 2)\n",
    "plt.ylim(-2, 2)\n",
    "plt.grid()"
   ]
  },
  {
   "cell_type": "code",
   "execution_count": 9,
   "id": "dc893ab7",
   "metadata": {},
   "outputs": [
    {
     "data": {
      "image/png": "[encoded data removed]",
      "text/plain": [
       "<Figure size 360x360 with 1 Axes>"
      ]
     },
     "metadata": {
      "needs_background": "light"
     },
     "output_type": "display_data"
    }
   ],
   "source": [
    "a = 2 + 3j\n",
    "b = -3 - 1j\n",
    "c = a + b\n",
    "\n",
    "plt.figure(figsize=(5, 5))\n",
    "\n",
    "\n",
    "plt.scatter([a.real], [a.imag])\n",
    "plt.scatter([b.real], [b.imag])\n",
    "plt.scatter([c.real], [c.imag])\n",
    "\n",
    "\n",
    "plt.plot([-4, 4], [0, 0], c='black')\n",
    "plt.plot([0, 0], [-4, 4], c='black')\n",
    "plt.xlim(-4, 4)\n",
    "plt.ylim(-4, 4)\n",
    "plt.grid()\n",
    "plt.show()"
   ]
  },
  {
   "cell_type": "code",
   "execution_count": 10,
   "id": "a6feb142",
   "metadata": {},
   "outputs": [
    {
     "data": {
      "text/plain": [
       "(-1+2j)"
      ]
     },
     "execution_count": 10,
     "metadata": {},
     "output_type": "execute_result"
    }
   ],
   "source": [
    "c"
   ]
  },
  {
   "cell_type": "code",
   "execution_count": 11,
   "id": "7e27dbf1",
   "metadata": {},
   "outputs": [
    {
     "data": {
      "image/png": "[encoded data removed]",
      "text/plain": [
       "<Figure size 360x360 with 1 Axes>"
      ]
     },
     "metadata": {
      "needs_background": "light"
     },
     "output_type": "display_data"
    }
   ],
   "source": [
    "a = 2 + 3j\n",
    "b = -3 - 1j\n",
    "c = a * b\n",
    "\n",
    "plt.figure(figsize=(5, 5))\n",
    "\n",
    "\n",
    "plt.scatter([a.real], [a.imag])\n",
    "plt.scatter([b.real], [b.imag])\n",
    "plt.scatter([c.real], [c.imag])\n",
    "\n",
    "lim = 15\n",
    "plt.plot([-lim, lim], [0, 0], c='black')\n",
    "plt.plot([0, 0], [-lim, lim], c='black')\n",
    "plt.xlim(-lim, lim)\n",
    "plt.ylim(-lim, lim)\n",
    "plt.grid()\n",
    "plt.show()"
   ]
  },
  {
   "cell_type": "code",
   "execution_count": 12,
   "id": "acc7507e",
   "metadata": {},
   "outputs": [
    {
     "name": "stdout",
     "output_type": "stream",
     "text": [
      "3.605551275463989\n",
      "3.605551275463989\n",
      "\n",
      " 2.0\n"
     ]
    }
   ],
   "source": [
    "print(np.abs(a))\n",
    "\n",
    "print(np.sqrt( a.real**2 + a.imag**2 ))\n",
    "\n",
    "\n",
    "print('\\n', np.abs(2 + 0j))"
   ]
  },
  {
   "cell_type": "code",
   "execution_count": 13,
   "id": "1d964070",
   "metadata": {},
   "outputs": [
    {
     "name": "stdout",
     "output_type": "stream",
     "text": [
      "56.309932474020215\n",
      "56.309932474020215\n",
      "56.309932474020215\n"
     ]
    }
   ],
   "source": [
    "print( np.arctan(a.imag / a.real) / np.pi * 180 )\n",
    "print( np.arctan2(a.imag, a.real) / np.pi * 180 )\n",
    "print( np.angle(a) / np.pi * 180 )"
   ]
  },
  {
   "cell_type": "code",
   "execution_count": 14,
   "id": "fbe306aa",
   "metadata": {},
   "outputs": [
    {
     "name": "stdout",
     "output_type": "stream",
     "text": [
      "(2+3j)\n",
      "(2-3j)\n"
     ]
    }
   ],
   "source": [
    "print(a)\n",
    "print(np.conjugate(a))"
   ]
  },
  {
   "cell_type": "markdown",
   "id": "f531185e",
   "metadata": {},
   "source": [
    "# e-Funktion"
   ]
  },
  {
   "cell_type": "code",
   "execution_count": 15,
   "id": "edb34d4d",
   "metadata": {},
   "outputs": [
    {
     "name": "stdout",
     "output_type": "stream",
     "text": [
      "2.0\n"
     ]
    },
    {
     "data": {
      "text/plain": [
       "1102.5"
      ]
     },
     "execution_count": 15,
     "metadata": {},
     "output_type": "execute_result"
    }
   ],
   "source": [
    "# zins und zinseszins\n",
    "\n",
    "start = 1000\n",
    "\n",
    "div = 2 # num divisions per year\n",
    "\n",
    "y = 1 # ... years\n",
    "y /= div \n",
    "\n",
    "rate_per_step = 0.1 # zins\n",
    "rate_per_step /= div\n",
    "\n",
    "num_steps = 1 # show results after ... * `y`\n",
    "\n",
    "print(num_steps / y)\n",
    "\n",
    "start * (1 + 1 * rate_per_step) ** (num_steps / y)"
   ]
  },
  {
   "cell_type": "markdown",
   "id": "f8b47c91",
   "metadata": {},
   "source": [
    "---\n",
    "\n",
    "$e^x = \\exp(x) = \\lim_{n \\to \\infty} \\left( 1 + \\frac xn \\right)^n$"
   ]
  },
  {
   "cell_type": "code",
   "execution_count": 16,
   "id": "00f8d48e",
   "metadata": {},
   "outputs": [],
   "source": [
    "def own_exp(x, n=1):\n",
    "    \n",
    "    return (1 + x / n) ** n"
   ]
  },
  {
   "cell_type": "code",
   "execution_count": 17,
   "id": "97a54c3f",
   "metadata": {},
   "outputs": [
    {
     "data": {
      "text/plain": [
       "2.7181119553078"
      ]
     },
     "execution_count": 17,
     "metadata": {},
     "output_type": "execute_result"
    }
   ],
   "source": [
    "own_exp(1, n=8000)"
   ]
  },
  {
   "cell_type": "code",
   "execution_count": 18,
   "id": "7c343e0a",
   "metadata": {},
   "outputs": [
    {
     "name": "stdout",
     "output_type": "stream",
     "text": [
      "1 2.0\n",
      "2 2.25\n",
      "3 2.37037037037037\n",
      "4 2.44140625\n",
      "5 2.4883199999999994\n",
      "6 2.5216263717421135\n",
      "7 2.546499697040712\n",
      "8 2.565784513950348\n",
      "9 2.5811747917131984\n",
      "10 2.5937424601000023\n",
      "11 2.6041990118975287\n",
      "12 2.613035290224676\n",
      "13 2.6206008878857308\n",
      "14 2.6271515563008685\n",
      "15 2.6328787177279187\n",
      "16 2.6379284973666\n",
      "17 2.64241437518311\n",
      "18 2.6464258210976865\n",
      "19 2.650034326640442\n",
      "20 2.653297705144422\n",
      "21 2.656263213926108\n",
      "22 2.658969858537786\n",
      "23 2.6614501186387796\n",
      "24 2.663731258068599\n",
      "25 2.665836331487422\n",
      "26 2.6677849665337465\n",
      "27 2.6695939778125704\n",
      "28 2.6712778534408463\n",
      "29 2.6728491439808066\n",
      "30 2.6743187758703026\n",
      "31 2.6756963059146854\n",
      "32 2.676990129378183\n",
      "33 2.678207651253779\n",
      "34 2.6793554280957674\n",
      "35 2.6804392861534603\n",
      "36 2.6814644203008586\n",
      "37 2.6824354773085255\n",
      "38 2.6833566262745787\n",
      "39 2.6842316184670922\n",
      "40 2.685063838389963\n",
      "41 2.6858563475377526\n",
      "42 2.686611922032571\n",
      "43 2.687333085118294\n",
      "44 2.6880221353133043\n",
      "45 2.688681170884324\n",
      "46 2.689312111189782\n",
      "47 2.6899167153502597\n",
      "48 2.6904965986289264\n",
      "49 2.691053246842418\n",
      "50 2.691588029073608\n",
      "51 2.6921022089150086\n",
      "52 2.692596954437168\n",
      "53 2.6930733470476085\n",
      "54 2.6935323893818506\n",
      "55 2.6939750123475794\n",
      "56 2.6944020814263596\n",
      "57 2.694814402322114\n",
      "58 2.695212726034574\n",
      "59 2.6955977534247255\n",
      "60 2.6959701393302162\n",
      "61 2.696330496282266\n",
      "62 2.6966793978678543\n",
      "63 2.697017381776468\n",
      "64 2.697344952565099\n",
      "65 2.6976625841715243\n",
      "66 2.6979707222024034\n",
      "67 2.6982697860189915\n",
      "68 2.698560170641394\n",
      "69 2.698842248489487\n",
      "70 2.6991163709761854\n",
      "71 2.699382869968298\n",
      "72 2.6996420591266403\n",
      "73 2.699894235137786\n",
      "74 2.7001396788468326\n",
      "75 2.700378656300911\n",
      "76 2.7006114197110898\n",
      "77 2.700838208340397\n",
      "78 2.7010592493240737\n",
      "79 2.701274758428429\n",
      "80 2.7014849407533275\n",
      "81 2.701689991383461\n",
      "82 2.701890095991989\n",
      "83 2.7020854314015796\n",
      "84 2.7022761661054715\n",
      "85 2.702462460752151\n",
      "86 2.7026444685967603\n",
      "87 2.702822335921502\n",
      "88 2.702996202427776\n",
      "89 2.7031662016021554\n",
      "90 2.703332461058186\n",
      "91 2.703495102855847\n",
      "92 2.7036542438003983\n",
      "93 2.703809995722089\n",
      "94 2.703962465738423\n",
      "95 2.704111756499579\n",
      "96 2.7042579664191284\n",
      "97 2.7044011898901603\n",
      "98 2.7045415174887277\n",
      "99 2.704679036164753\n",
      "100 2.7048138294215285\n",
      "101 2.7049459774851603\n",
      "102 2.705075557463504\n",
      "103 2.7052026434963605\n",
      "104 2.7053273068967987\n",
      "105 2.705449616284729\n",
      "106 2.705569637712799\n",
      "107 2.7056874347851623\n",
      "108 2.7058030687704\n",
      "109 2.7059165987070446\n",
      "110 2.7060280815047544\n",
      "111 2.7061375720390206\n",
      "112 2.706245123241461\n",
      "113 2.706350786184983\n",
      "114 2.7064546101647613\n",
      "115 2.706556642774879\n",
      "116 2.706656929981162\n",
      "117 2.7067555161900714\n",
      "118 2.706852444314376\n",
      "119 2.7069477558354027\n",
      "120 2.7070414908622435\n",
      "121 2.707133688188016\n",
      "122 2.7072243853433786\n",
      "123 2.7073136186475804\n",
      "124 2.707401423256779\n",
      "125 2.7074878332103167\n",
      "126 2.7075728814747357\n",
      "127 2.7076565999857247\n",
      "128 2.7077390196880207\n",
      "129 2.7078201705736085\n",
      "130 2.7079000817180776\n",
      "131 2.7079787813153984\n",
      "132 2.7080562967111232\n",
      "133 2.708132654433869\n",
      "134 2.7082078802257286\n",
      "135 2.7082819990713864\n",
      "136 2.7083550352254617\n",
      "137 2.708427012239114\n",
      "138 2.7084979529852773\n",
      "139 2.7085678796831387\n",
      "140 2.7086368139211445\n",
      "141 2.7087047766791463\n",
      "142 2.7087717883499662\n",
      "143 2.708837868759473\n",
      "144 2.7089030371862597\n",
      "145 2.7089673123806697\n",
      "146 2.7090307125823254\n",
      "147 2.7090932555376694\n",
      "148 2.709154958516498\n",
      "149 2.7092158383277742\n",
      "150 2.709275911334851\n",
      "151 2.7093351934705265\n",
      "152 2.7093937002504522\n",
      "153 2.7094514467873294\n",
      "154 2.7095084478035383\n",
      "155 2.709564717643635\n",
      "156 2.709620270286827\n",
      "157 2.7096751193579265\n",
      "158 2.7097292781389424\n",
      "159 2.7097827595795927\n",
      "160 2.7098355763078152\n",
      "161 2.709887740639328\n",
      "162 2.7099392645878924\n",
      "163 2.709990159873631\n",
      "164 2.710040437932739\n",
      "165 2.710090109925527\n",
      "166 2.7101391867449083\n",
      "167 2.7101876790242274\n",
      "168 2.7102355971452643\n",
      "169 2.710282951245167\n",
      "170 2.7103297512238647\n",
      "171 2.710376006751046\n",
      "172 2.710421727272701\n",
      "173 2.7104669220174693\n",
      "174 2.7105116000029934\n",
      "175 2.710555770041915\n",
      "176 2.7105994407475107\n",
      "177 2.7106426205396774\n",
      "178 2.7106853176496353\n",
      "179 2.7107275401261237\n",
      "180 2.7107692958394067\n",
      "181 2.7108105924871326\n",
      "182 2.7108514375982247\n",
      "183 2.71089183853824\n",
      "184 2.710931802513102\n",
      "185 2.710971336573943\n",
      "186 2.7110104476208314\n",
      "187 2.711049142406988\n",
      "188 2.7110874275426164\n",
      "189 2.711125309498924\n",
      "190 2.711162794611157\n",
      "191 2.711199889082793\n",
      "192 2.7112365989886458\n",
      "193 2.7112729302782266\n",
      "194 2.711308888778786\n",
      "195 2.7113444801988122\n",
      "196 2.711379710130714\n",
      "197 2.711414584053919\n",
      "198 2.7114491073377014\n",
      "199 2.7114832852438147\n"
     ]
    }
   ],
   "source": [
    "for n in range(1, 200):\n",
    "\n",
    "    print(n, own_exp(1, n))"
   ]
  },
  {
   "cell_type": "code",
   "execution_count": 20,
   "id": "44f250d6",
   "metadata": {},
   "outputs": [],
   "source": [
    "for n in range(1, 200):\n",
    "\n",
    "    result = own_exp(1j * np.pi, n)\n",
    "\n",
    "    print(n, result)\n",
    "    \n",
    "    plt.figure(figsize=(5, 5))\n",
    "\n",
    "    plt.scatter([result.real], [result.imag])\n",
    "    \n",
    "    lim = 6\n",
    "    plt.plot([-lim, lim], [0, 0], c='black')\n",
    "    plt.plot([0, 0], [-lim, lim], c='black')\n",
    "    plt.xlim(-lim, lim)\n",
    "    plt.ylim(-lim, lim)\n",
    "    plt.grid()\n",
    "    plt.show()"
   ]
  }
 ],
 "metadata": {
  "kernelspec": {
   "display_name": "Python 3 (ipykernel)",
   "language": "python",
   "name": "python3"
  },
  "language_info": {
   "codemirror_mode": {
    "name": "ipython",
    "version": 3
   },
   "file_extension": ".py",
   "mimetype": "text/x-python",
   "name": "python",
   "nbconvert_exporter": "python",
   "pygments_lexer": "ipython3",
   "version": "3.9.15"
  },
  "toc": {
   "base_numbering": 1,
   "nav_menu": {},
   "number_sections": true,
   "sideBar": true,
   "skip_h1_title": false,
   "title_cell": "Table of Contents",
   "title_sidebar": "Contents",
   "toc_cell": false,
   "toc_position": {},
   "toc_section_display": true,
   "toc_window_display": false
  },
  "varInspector": {
   "cols": {
    "lenName": 16,
    "lenType": 16,
    "lenVar": 40
   },
   "kernels_config": {
    "python": {
     "delete_cmd_postfix": "",
     "delete_cmd_prefix": "del ",
     "library": "var_list.py",
     "varRefreshCmd": "print(var_dic_list())"
    },
    "r": {
     "delete_cmd_postfix": ") ",
     "delete_cmd_prefix": "rm(",
     "library": "var_list.r",
     "varRefreshCmd": "cat(var_dic_list()) "
    }
   },
   "types_to_exclude": [
    "module",
    "function",
    "builtin_function_or_method",
    "instance",
    "_Feature"
   ],
   "window_display": false
  }
 },
 "nbformat": 4,
 "nbformat_minor": 5
}
