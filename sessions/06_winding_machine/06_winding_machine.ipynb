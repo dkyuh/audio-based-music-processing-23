{
 "cells": [
  {
   "cell_type": "markdown",
   "id": "47dd3a35",
   "metadata": {},
   "source": [
    "# Session 06: Winding Machine\n",
    "\n",
    "## Imports"
   ]
  },
  {
   "cell_type": "code",
   "execution_count": 1,
   "id": "19a63f6e",
   "metadata": {},
   "outputs": [],
   "source": [
    "import numpy as np\n",
    "import matplotlib.pyplot as plt"
   ]
  },
  {
   "cell_type": "markdown",
   "id": "4e1d2dab",
   "metadata": {},
   "source": [
    "## Addendum: Exponentialfunktion"
   ]
  },
  {
   "cell_type": "code",
   "execution_count": 2,
   "id": "a0ce0303",
   "metadata": {},
   "outputs": [
    {
     "data": {
      "text/plain": [
       "7.999999999999998"
      ]
     },
     "execution_count": 2,
     "metadata": {},
     "output_type": "execute_result"
    }
   ],
   "source": [
    "np.exp(np.log(2) * 3)"
   ]
  },
  {
   "cell_type": "markdown",
   "id": "42c0f4d7",
   "metadata": {},
   "source": [
    "$e^{\\ln(2) \\cdot x} = 2^x$\n",
    "\n",
    "siehe auch: [Mathematik-Grundlagen](/topics/Mathematik-Grundlagen.md)"
   ]
  },
  {
   "cell_type": "markdown",
   "id": "3c01922b",
   "metadata": {},
   "source": [
    "## Winding Machine"
   ]
  },
  {
   "cell_type": "code",
   "execution_count": 3,
   "id": "e3660894",
   "metadata": {},
   "outputs": [],
   "source": [
    "num_mags = 100\n",
    "magnitudes = np.zeros(num_mags)\n",
    "\n",
    "t = np.linspace(0, 1, num=100)\n",
    "freq1, freq2 = 2, 5\n",
    "x = (np.sin(t * 2 * np.pi * freq1) * 0.5) + (np.sin(t * 2 * np.pi * freq2) * 0.5)\n",
    "# x = x * 0.2 + 0.6\n",
    "\n",
    "winding_freqs = np.linspace(0, 7, num=num_mags)\n",
    "for i, winding_freq in enumerate(winding_freqs):\n",
    "    e = np.exp(t * -1j * 2 * np.pi * winding_freq)\n",
    "    winded = x * e\n",
    "    com = np.mean(winded) # center of mass\n",
    "    magnitudes[i] = np.abs(com)\n",
    "\n",
    "    \n",
    "    ########################\n",
    "\n",
    "    plt.figure(figsize=(5 * 3, 5))\n",
    "    cm = plt.cm.get_cmap('viridis')\n",
    "\n",
    "    plt.subplot(1, 3, 1)\n",
    "    for winded_, color in zip(winded, cm(t)):\n",
    "        plt.plot(winded_.real, winded_.imag, 'o', color=color)\n",
    "    plt.plot([0, com.real], [0, com.imag], 'r')\n",
    "    lim = 1.05\n",
    "    plt.xlim(-lim, lim)\n",
    "    plt.ylim(-lim, lim)\n",
    "\n",
    "    plt.subplot(1, 3, 2)\n",
    "    plt.plot(x, '-o')\n",
    "    plt.plot(np.cos(t * 2 * np.pi * winding_freq + np.angle(com)))\n",
    "    plt.ylim(-lim, lim)\n",
    "\n",
    "    plt.subplot(1, 3, 3)\n",
    "    plt.plot(winding_freqs, magnitudes)\n",
    "\n",
    "    plt.show()"
   ]
  },
  {
   "cell_type": "markdown",
   "id": "4a2c1b0e",
   "metadata": {},
   "source": [
    "![winding_machine](../../data/img/winding_machine.gif)"
   ]
  },
  {
   "cell_type": "markdown",
   "id": "8b01b018",
   "metadata": {},
   "source": [
    "## Discrete Fourier Transform (DFT)"
   ]
  },
  {
   "cell_type": "markdown",
   "id": "fb17bf84",
   "metadata": {},
   "source": [
    "---\n",
    "$X_{k}=\\sum _{n=0}^{N-1}x_{n}\\cdot e^{{\\frac {-i 2 \\pi k n}{N}}}$\n",
    "\n",
    "---"
   ]
  },
  {
   "cell_type": "code",
   "execution_count": 4,
   "id": "861eb79a",
   "metadata": {},
   "outputs": [
    {
     "data": {
      "text/plain": [
       "[<matplotlib.lines.Line2D at 0x1163b4dc0>]"
      ]
     },
     "execution_count": 4,
     "metadata": {},
     "output_type": "execute_result"
    },
    {
     "data": {
      "image/png": "[encoded data removed]",
      "text/plain": [
       "<Figure size 432x288 with 1 Axes>"
      ]
     },
     "metadata": {
      "needs_background": "light"
     },
     "output_type": "display_data"
    }
   ],
   "source": [
    "def own_dft(x):\n",
    "\n",
    "    N = x.size\n",
    "    n = np.arange(0, N)\n",
    "\n",
    "    ft = np.zeros(N, dtype=complex)\n",
    "\n",
    "    for k in range(N):\n",
    "        ft[k] = np.sum(x * np.exp(-1j * 2 * np.pi * k * n / N))\n",
    "\n",
    "    return ft\n",
    "\n",
    "plt.plot(np.abs(own_dft(x)))"
   ]
  }
 ],
 "metadata": {
  "jupytext": {
   "cell_metadata_filter": "-all",
   "notebook_metadata_filter": "-all"
  },
  "kernelspec": {
   "display_name": "Python 3 (ipykernel)",
   "language": "python",
   "name": "python3"
  },
  "language_info": {
   "codemirror_mode": {
    "name": "ipython",
    "version": 3
   },
   "file_extension": ".py",
   "mimetype": "text/x-python",
   "name": "python",
   "nbconvert_exporter": "python",
   "pygments_lexer": "ipython3",
   "version": "3.9.11"
  },
  "toc": {
   "base_numbering": 1,
   "nav_menu": {},
   "number_sections": true,
   "sideBar": true,
   "skip_h1_title": false,
   "title_cell": "Table of Contents",
   "title_sidebar": "Contents",
   "toc_cell": false,
   "toc_position": {},
   "toc_section_display": true,
   "toc_window_display": false
  },
  "varInspector": {
   "cols": {
    "lenName": 16,
    "lenType": 16,
    "lenVar": 40
   },
   "kernels_config": {
    "python": {
     "delete_cmd_postfix": "",
     "delete_cmd_prefix": "del ",
     "library": "var_list.py",
     "varRefreshCmd": "print(var_dic_list())"
    },
    "r": {
     "delete_cmd_postfix": ") ",
     "delete_cmd_prefix": "rm(",
     "library": "var_list.r",
     "varRefreshCmd": "cat(var_dic_list()) "
    }
   },
   "types_to_exclude": [
    "module",
    "function",
    "builtin_function_or_method",
    "instance",
    "_Feature"
   ],
   "window_display": false
  }
 },
 "nbformat": 4,
 "nbformat_minor": 5
}
